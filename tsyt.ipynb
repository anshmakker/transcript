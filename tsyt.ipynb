{
  "nbformat": 4,
  "nbformat_minor": 0,
  "metadata": {
    "colab": {
      "provenance": [],
      "authorship_tag": "ABX9TyOKwP75ds1oougdhVZqzKvO",
      "include_colab_link": true
    },
    "kernelspec": {
      "name": "python3",
      "display_name": "Python 3"
    },
    "language_info": {
      "name": "python"
    }
  },
  "cells": [
    {
      "cell_type": "markdown",
      "metadata": {
        "id": "view-in-github",
        "colab_type": "text"
      },
      "source": [
        "<a href=\"https://colab.research.google.com/github/anshmakker/transcript/blob/main/tsyt.ipynb\" target=\"_parent\"><img src=\"https://colab.research.google.com/assets/colab-badge.svg\" alt=\"Open In Colab\"/></a>"
      ]
    },
    {
      "cell_type": "code",
      "source": [
        "from pytube import YouTube\n",
        "from moviepy.editor import VideoFileClip\n",
        "import os\n",
        "import whisper\n",
        "\n",
        "def download_video(url):\n",
        "    try:\n",
        "        yt = YouTube(url)\n",
        "        stream = yt.streams.filter(progressive=True, file_extension='mp4').order_by('resolution').desc().first()\n",
        "        if stream:\n",
        "            return stream.download()\n",
        "        else:\n",
        "            print(\"No suitable stream found.\")\n",
        "            return None\n",
        "    except Exception as e:\n",
        "        print(\"Failed to download video:\", str(e))\n",
        "        return None\n",
        "\n",
        "def extract_audio(video_path):\n",
        "    try:\n",
        "        video_clip = VideoFileClip(video_path)\n",
        "        audio_path = video_path.replace('.mp4', '.mp3')\n",
        "        video_clip.audio.write_audiofile(audio_path)\n",
        "        return audio_path\n",
        "    except Exception as e:\n",
        "        print(\"Failed to convert video to audio:\", str(e))\n",
        "        return None\n",
        "\n",
        "def transcribe_audio(audio_path):\n",
        "    try:\n",
        "        model = whisper.load_model(\"medium\")\n",
        "        result = model.transcribe(audio_path)\n",
        "        return result\n",
        "    except Exception as e:\n",
        "        print(\"Failed to transcribe audio:\", str(e))\n",
        "        return None\n",
        "\n",
        "def save_transcription(transcription, file_name=\"transcription.txt\"):\n",
        "    try:\n",
        "        with open(file_name, \"w\") as file:\n",
        "            for segment in transcription['segments']:\n",
        "                start_time_sec = segment['start']\n",
        "                end_time_sec = segment['end']\n",
        "                start_time_min = start_time_sec / 60\n",
        "                end_time_min = end_time_sec / 60\n",
        "                formatted_start_time = f\"{start_time_min:.2f}\"\n",
        "                formatted_end_time = f\"{end_time_min:.2f}\"\n",
        "                text = segment['text']\n",
        "                file.write(f\"{formatted_start_time}-{formatted_end_time}: {text}\\n\")\n",
        "        print(\"Transcription saved to:\", file_name)\n",
        "    except Exception as e:\n",
        "        print(\"Failed to save transcription:\", str(e))\n",
        "\n",
        "\n",
        "url = input(\"Enter YouTube URL: \")\n",
        "video_path = download_video(url)\n",
        "if video_path:\n",
        "    audio_path = extract_audio(video_path)\n",
        "    if audio_path:\n",
        "        print(\"Audio file ready at:\", audio_path)\n",
        "        transcription = transcribe_audio(audio_path)\n",
        "        if transcription:\n",
        "            save_transcription(transcription)\n",
        "        else:\n",
        "            print(\"Transcription failed.\")\n",
        "    else:\n",
        "        print(\"Audio conversion failed.\")\n",
        "else:\n",
        "    print(\"Video download failed.\")\n",
        "\n"
      ],
      "metadata": {
        "colab": {
          "base_uri": "https://localhost:8080/"
        },
        "id": "4S_LGZyKkSY7",
        "outputId": "7505f7c8-3424-4966-b2e8-206c2613fedf"
      },
      "execution_count": null,
      "outputs": [
        {
          "output_type": "stream",
          "name": "stdout",
          "text": [
            "Enter YouTube URL: https://youtube.com/shorts/NAQELfvzHFU?si=RsEAp7U_bico-52o\n",
            "MoviePy - Writing audio in /content/Amazing guy speaking Vietnamese fluently.mp3\n"
          ]
        },
        {
          "output_type": "stream",
          "name": "stderr",
          "text": []
        },
        {
          "output_type": "stream",
          "name": "stdout",
          "text": [
            "MoviePy - Done.\n",
            "Audio file ready at: /content/Amazing guy speaking Vietnamese fluently.mp3\n"
          ]
        },
        {
          "output_type": "stream",
          "name": "stderr",
          "text": [
            "WARNING:py.warnings:/usr/local/lib/python3.10/dist-packages/whisper/transcribe.py:126: UserWarning: FP16 is not supported on CPU; using FP32 instead\n",
            "  warnings.warn(\"FP16 is not supported on CPU; using FP32 instead\")\n",
            "\n"
          ]
        }
      ]
    }
  ]
}